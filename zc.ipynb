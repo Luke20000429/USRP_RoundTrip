{
 "cells": [
  {
   "cell_type": "code",
   "execution_count": 6,
   "metadata": {},
   "outputs": [],
   "source": [
    "import numpy as np\n",
    "\n",
    "def zcsequence(u, seq_length, q=0):\n",
    "    \"\"\"\n",
    "    Generate a Zadoff-Chu (ZC) sequence.\n",
    "    Parameters\n",
    "    ----------\n",
    "    u : int\n",
    "        Root index of the the ZC sequence: u>0.\n",
    "    seq_length : int\n",
    "        Length of the sequence to be generated. Usually a prime number:\n",
    "        u<seq_length, greatest-common-denominator(u,seq_length)=1.\n",
    "    q : int\n",
    "        Cyclic shift of the sequence (default 0).\n",
    "    Returns\n",
    "    -------\n",
    "    zcseq : 1D ndarray of complex floats\n",
    "        ZC sequence generated.\n",
    "    \"\"\"\n",
    "\n",
    "    for el in [u,seq_length,q]:\n",
    "        if not float(el).is_integer():\n",
    "            raise ValueError('{} is not an integer'.format(el))\n",
    "    if u<=0:\n",
    "        raise ValueError('u is not stricly positive')\n",
    "    if u>=seq_length:\n",
    "        raise ValueError('u is not stricly smaller than seq_length')\n",
    "    if np.gcd(u,seq_length)!=1:\n",
    "        raise ValueError('the greatest common denominator of u and seq_length is not 1')\n",
    "\n",
    "    cf = seq_length%2\n",
    "    n = np.arange(seq_length)\n",
    "    zcseq = np.exp( -1j * np.pi * u * n * (n+cf+2.*q) / seq_length)\n",
    "\n",
    "    return zcseq\n",
    "\n",
    "def genSignal(periods, u, seq_len):\n",
    "    return np.concatenate([zcsequence(u, seq_len, offset) for offset in range(periods)])\n",
    "\n",
    "# print(zcsequence(3, 137))\n",
    "seq = genSignal(10, 3, 137)\n",
    "np.savetxt(\"zc_real\", seq.real, newline=', \\n')\n",
    "np.savetxt(\"zc_imag\", seq.imag, newline=', \\n')\n",
    "\n",
    "\n",
    "    "
   ]
  }
 ],
 "metadata": {
  "kernelspec": {
   "display_name": "Python 3.8.10 64-bit",
   "language": "python",
   "name": "python3"
  },
  "language_info": {
   "codemirror_mode": {
    "name": "ipython",
    "version": 3
   },
   "file_extension": ".py",
   "mimetype": "text/x-python",
   "name": "python",
   "nbconvert_exporter": "python",
   "pygments_lexer": "ipython3",
   "version": "3.8.10"
  },
  "orig_nbformat": 4,
  "vscode": {
   "interpreter": {
    "hash": "df0893f56f349688326838aaeea0de204df53a132722cbd565e54b24a8fec5f6"
   }
  }
 },
 "nbformat": 4,
 "nbformat_minor": 2
}
